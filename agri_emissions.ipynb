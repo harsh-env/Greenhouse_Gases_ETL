{
 "cells": [
  {
   "cell_type": "code",
   "execution_count": 2,
   "id": "766385ce",
   "metadata": {},
   "outputs": [],
   "source": [
    "import pandas as pd\n",
    "from sqlalchemy import create_engine\n",
    "import psycopg2 \n",
    "import requests\n",
    "from json import load\n",
    "import jsonschema\n",
    "from jsonschema import validate\n",
    "import json\n"
   ]
  },
  {
   "cell_type": "markdown",
   "id": "bc720cd3",
   "metadata": {},
   "source": [
    "# Open JSON file"
   ]
  },
  {
   "cell_type": "code",
   "execution_count": 3,
   "id": "88a977ad",
   "metadata": {},
   "outputs": [],
   "source": [
    "# schema_file = \"Agri_schema.json\"\n",
    "# schema_df = pd.read_json(schema_file)\n",
    "# schema_df.head()"
   ]
  },
  {
   "cell_type": "code",
   "execution_count": 4,
   "id": "be29e3be",
   "metadata": {},
   "outputs": [],
   "source": [
    "# with open('Agri_schema.json') as sc:\n",
    "#     schema = load(sc)\n",
    "\n",
    "# print(schema)"
   ]
  },
  {
   "cell_type": "code",
   "execution_count": 5,
   "id": "2b07ad6f",
   "metadata": {},
   "outputs": [
    {
     "name": "stdout",
     "output_type": "stream",
     "text": [
      "{\n",
      "   \"title\": \"agri-environmental-indicators-emissions-by-sector\",\n",
      "   \"type\": \"object\",\n",
      "   \"oneOf\": [\n",
      "      {\n",
      "         \"$ref\": \"#/definitions/agri-environmental-indicators-emissions-by-sector\"\n",
      "      }\n",
      "   ],\n",
      "   \"definitions\": {\n",
      "      \"agri-environmental-indicators-emissions-by-sector\": {\n",
      "         \"properties\": {\n",
      "            \"records\": {\n",
      "               \"type\": \"array\",\n",
      "               \"items\": {\n",
      "                  \"$ref\": \"#/definitions/agri-environmental-indicators-emissions-by-sector_records\"\n",
      "               }\n",
      "            }\n",
      "         }\n",
      "      },\n",
      "      \"agri-environmental-indicators-emissions-by-sector_records\": {\n",
      "         \"properties\": {\n",
      "            \"fields\": {\n",
      "               \"type\": \"object\",\n",
      "               \"properties\": {\n",
      "                  \"year\": {\n",
      "                     \"type\": \"string\",\n",
      "                     \"format\": \"date\",\n",
      "                     \"title\": \"Year\",\n",
      "                     \"description\": \"\"\n",
      "                  },\n",
      "                  \"area\": {\n",
      "                     \"type\": \"string\",\n",
      "                     \"title\": \"Area\",\n",
      "                     \"description\": \"\"\n",
      "                  },\n",
      "                  \"item\": {\n",
      "                     \"type\": \"string\",\n",
      "                     \"title\": \"Item\",\n",
      "                     \"description\": \"\"\n",
      "                  },\n",
      "                  \"element\": {\n",
      "                     \"type\": \"string\",\n",
      "                     \"title\": \"Element\",\n",
      "                     \"description\": \"\"\n",
      "                  },\n",
      "                  \"value\": {\n",
      "                     \"type\": \"number\",\n",
      "                     \"title\": \"Value\",\n",
      "                     \"description\": \"\"\n",
      "                  },\n",
      "                  \"unit\": {\n",
      "                     \"type\": \"string\",\n",
      "                     \"title\": \"Unit\",\n",
      "                     \"description\": \"\"\n",
      "                  }\n",
      "               }\n",
      "            }\n",
      "         }\n",
      "      }\n",
      "   }\n",
      "}\n"
     ]
    }
   ],
   "source": [
    "with open('Agri_schema.json', \"r\") as sc:\n",
    "    schema = load(sc)\n",
    "    \n",
    "    pretty_json = json.dumps(schema, indent=3)\n",
    "    print(pretty_json)"
   ]
  },
  {
   "cell_type": "code",
   "execution_count": 6,
   "id": "d723df52",
   "metadata": {},
   "outputs": [],
   "source": [
    "json_file =\"agri-environmental-indicators-emissions-by-sector.json\""
   ]
  },
  {
   "cell_type": "code",
   "execution_count": 7,
   "id": "99976663",
   "metadata": {},
   "outputs": [
    {
     "data": {
      "text/html": [
       "<div>\n",
       "<style scoped>\n",
       "    .dataframe tbody tr th:only-of-type {\n",
       "        vertical-align: middle;\n",
       "    }\n",
       "\n",
       "    .dataframe tbody tr th {\n",
       "        vertical-align: top;\n",
       "    }\n",
       "\n",
       "    .dataframe thead th {\n",
       "        text-align: right;\n",
       "    }\n",
       "</style>\n",
       "<table border=\"1\" class=\"dataframe\">\n",
       "  <thead>\n",
       "    <tr style=\"text-align: right;\">\n",
       "      <th></th>\n",
       "      <th>datasetid</th>\n",
       "      <th>recordid</th>\n",
       "      <th>fields</th>\n",
       "      <th>record_timestamp</th>\n",
       "    </tr>\n",
       "  </thead>\n",
       "  <tbody>\n",
       "    <tr>\n",
       "      <th>0</th>\n",
       "      <td>agri-environmental-indicators-emissions-by-sector</td>\n",
       "      <td>5500592b928d56fc0da60501fa364fa5c132b79a</td>\n",
       "      <td>{'year': '2014', 'element': 'Emissions (F-gase...</td>\n",
       "      <td>2021-11-07T05:29:57.595-06:00</td>\n",
       "    </tr>\n",
       "    <tr>\n",
       "      <th>1</th>\n",
       "      <td>agri-environmental-indicators-emissions-by-sector</td>\n",
       "      <td>6b85b6ddf5ef6956602f5794450b16671561f5ff</td>\n",
       "      <td>{'year': '2018', 'element': 'Emissions (F-gase...</td>\n",
       "      <td>2021-11-07T05:29:57.595-06:00</td>\n",
       "    </tr>\n",
       "    <tr>\n",
       "      <th>2</th>\n",
       "      <td>agri-environmental-indicators-emissions-by-sector</td>\n",
       "      <td>7315471f71541c41f2a5349f7bb4b522a051931f</td>\n",
       "      <td>{'year': '1991', 'element': 'Emissions Share (...</td>\n",
       "      <td>2021-11-07T05:29:57.595-06:00</td>\n",
       "    </tr>\n",
       "    <tr>\n",
       "      <th>3</th>\n",
       "      <td>agri-environmental-indicators-emissions-by-sector</td>\n",
       "      <td>825a93245b1d222469a12604a1651cc34a63bd52</td>\n",
       "      <td>{'year': '1999', 'element': 'Emissions Share (...</td>\n",
       "      <td>2021-11-07T05:29:57.595-06:00</td>\n",
       "    </tr>\n",
       "    <tr>\n",
       "      <th>4</th>\n",
       "      <td>agri-environmental-indicators-emissions-by-sector</td>\n",
       "      <td>3f4119c9755d2fddac4126a472f149131a6bace1</td>\n",
       "      <td>{'year': '2012', 'element': 'Emissions Share (...</td>\n",
       "      <td>2021-11-07T05:29:57.595-06:00</td>\n",
       "    </tr>\n",
       "  </tbody>\n",
       "</table>\n",
       "</div>"
      ],
      "text/plain": [
       "                                           datasetid  \\\n",
       "0  agri-environmental-indicators-emissions-by-sector   \n",
       "1  agri-environmental-indicators-emissions-by-sector   \n",
       "2  agri-environmental-indicators-emissions-by-sector   \n",
       "3  agri-environmental-indicators-emissions-by-sector   \n",
       "4  agri-environmental-indicators-emissions-by-sector   \n",
       "\n",
       "                                   recordid  \\\n",
       "0  5500592b928d56fc0da60501fa364fa5c132b79a   \n",
       "1  6b85b6ddf5ef6956602f5794450b16671561f5ff   \n",
       "2  7315471f71541c41f2a5349f7bb4b522a051931f   \n",
       "3  825a93245b1d222469a12604a1651cc34a63bd52   \n",
       "4  3f4119c9755d2fddac4126a472f149131a6bace1   \n",
       "\n",
       "                                              fields  \\\n",
       "0  {'year': '2014', 'element': 'Emissions (F-gase...   \n",
       "1  {'year': '2018', 'element': 'Emissions (F-gase...   \n",
       "2  {'year': '1991', 'element': 'Emissions Share (...   \n",
       "3  {'year': '1999', 'element': 'Emissions Share (...   \n",
       "4  {'year': '2012', 'element': 'Emissions Share (...   \n",
       "\n",
       "                record_timestamp  \n",
       "0  2021-11-07T05:29:57.595-06:00  \n",
       "1  2021-11-07T05:29:57.595-06:00  \n",
       "2  2021-11-07T05:29:57.595-06:00  \n",
       "3  2021-11-07T05:29:57.595-06:00  \n",
       "4  2021-11-07T05:29:57.595-06:00  "
      ]
     },
     "execution_count": 7,
     "metadata": {},
     "output_type": "execute_result"
    }
   ],
   "source": [
    "entire_file_df = pd.read_json(json_file)\n",
    "entire_file_df.head()"
   ]
  },
  {
   "cell_type": "code",
   "execution_count": 8,
   "id": "cdb7232a",
   "metadata": {
    "scrolled": true
   },
   "outputs": [],
   "source": [
    "# with open(json_file, \"r\") as df:\n",
    "#     aggschema = load(df)\n",
    "    \n",
    "#     pretty_json2 = json.dumps(aggschema, indent=3)\n",
    "#     print(pretty_json2)"
   ]
  },
  {
   "cell_type": "markdown",
   "id": "1869f8e4",
   "metadata": {},
   "source": [
    "### IOPub data rate exceeded.\n",
    "The notebook server will temporarily stop sending output\n",
    "to the client in order to avoid crashing it.\n",
    "To change this limit, set the config variable\n",
    "`--NotebookApp.iopub_data_rate_limit`.\n",
    "\n",
    "Current values:\n",
    "NotebookApp.iopub_data_rate_limit=1000000.0 (bytes/sec)\n",
    "NotebookApp.rate_limit_window=3.0 (secs)"
   ]
  },
  {
   "cell_type": "code",
   "execution_count": 9,
   "id": "0b9fb131",
   "metadata": {},
   "outputs": [
    {
     "data": {
      "text/plain": [
       "0    {'year': '2014', 'element': 'Emissions (F-gase...\n",
       "1    {'year': '2018', 'element': 'Emissions (F-gase...\n",
       "2    {'year': '1991', 'element': 'Emissions Share (...\n",
       "3    {'year': '1999', 'element': 'Emissions Share (...\n",
       "4    {'year': '2012', 'element': 'Emissions Share (...\n",
       "Name: fields, dtype: object"
      ]
     },
     "execution_count": 9,
     "metadata": {},
     "output_type": "execute_result"
    }
   ],
   "source": [
    "fields_df = entire_file_df.loc[:, \"fields\"]\n",
    "fields_df.head()"
   ]
  },
  {
   "cell_type": "code",
   "execution_count": 32,
   "id": "017a69e9",
   "metadata": {},
   "outputs": [
    {
     "data": {
      "text/html": [
       "<div>\n",
       "<style scoped>\n",
       "    .dataframe tbody tr th:only-of-type {\n",
       "        vertical-align: middle;\n",
       "    }\n",
       "\n",
       "    .dataframe tbody tr th {\n",
       "        vertical-align: top;\n",
       "    }\n",
       "\n",
       "    .dataframe thead th {\n",
       "        text-align: right;\n",
       "    }\n",
       "</style>\n",
       "<table border=\"1\" class=\"dataframe\">\n",
       "  <thead>\n",
       "    <tr style=\"text-align: right;\">\n",
       "      <th></th>\n",
       "      <th>year</th>\n",
       "      <th>element</th>\n",
       "      <th>unit</th>\n",
       "      <th>area</th>\n",
       "      <th>item</th>\n",
       "      <th>value</th>\n",
       "    </tr>\n",
       "  </thead>\n",
       "  <tbody>\n",
       "    <tr>\n",
       "      <th>0</th>\n",
       "      <td>2014</td>\n",
       "      <td>Emissions (F-gases)</td>\n",
       "      <td>kilotonnes</td>\n",
       "      <td>Mongolia</td>\n",
       "      <td>Waste - food systems</td>\n",
       "      <td>0.0000</td>\n",
       "    </tr>\n",
       "    <tr>\n",
       "      <th>1</th>\n",
       "      <td>2018</td>\n",
       "      <td>Emissions (F-gases)</td>\n",
       "      <td>kilotonnes</td>\n",
       "      <td>Mongolia</td>\n",
       "      <td>Waste - food systems</td>\n",
       "      <td>0.0000</td>\n",
       "    </tr>\n",
       "    <tr>\n",
       "      <th>2</th>\n",
       "      <td>1991</td>\n",
       "      <td>Emissions Share (CO2eq) (AR5)</td>\n",
       "      <td>%</td>\n",
       "      <td>Mongolia</td>\n",
       "      <td>Food Household Consumption</td>\n",
       "      <td>0.9332</td>\n",
       "    </tr>\n",
       "    <tr>\n",
       "      <th>3</th>\n",
       "      <td>1999</td>\n",
       "      <td>Emissions Share (CO2eq) (AR5)</td>\n",
       "      <td>%</td>\n",
       "      <td>Mongolia</td>\n",
       "      <td>Food Household Consumption</td>\n",
       "      <td>0.3126</td>\n",
       "    </tr>\n",
       "    <tr>\n",
       "      <th>4</th>\n",
       "      <td>2012</td>\n",
       "      <td>Emissions Share (CO2eq) (AR5)</td>\n",
       "      <td>%</td>\n",
       "      <td>Mongolia</td>\n",
       "      <td>Food Household Consumption</td>\n",
       "      <td>0.6152</td>\n",
       "    </tr>\n",
       "  </tbody>\n",
       "</table>\n",
       "</div>"
      ],
      "text/plain": [
       "   year                        element        unit      area  \\\n",
       "0  2014            Emissions (F-gases)  kilotonnes  Mongolia   \n",
       "1  2018            Emissions (F-gases)  kilotonnes  Mongolia   \n",
       "2  1991  Emissions Share (CO2eq) (AR5)           %  Mongolia   \n",
       "3  1999  Emissions Share (CO2eq) (AR5)           %  Mongolia   \n",
       "4  2012  Emissions Share (CO2eq) (AR5)           %  Mongolia   \n",
       "\n",
       "                         item   value  \n",
       "0        Waste - food systems  0.0000  \n",
       "1        Waste - food systems  0.0000  \n",
       "2  Food Household Consumption  0.9332  \n",
       "3  Food Household Consumption  0.3126  \n",
       "4  Food Household Consumption  0.6152  "
      ]
     },
     "execution_count": 32,
     "metadata": {},
     "output_type": "execute_result"
    }
   ],
   "source": [
    "ent_json = pd.json_normalize(fields_df)\n",
    "ent_json.head()"
   ]
  },
  {
   "cell_type": "code",
   "execution_count": 27,
   "id": "f42fe175",
   "metadata": {},
   "outputs": [],
   "source": [
    "# fields_df.describe() - bad idea\n"
   ]
  },
  {
   "cell_type": "code",
   "execution_count": 28,
   "id": "2289f281",
   "metadata": {},
   "outputs": [],
   "source": [
    "# new_fields_df = pd.DataFrame.from_dict(fields_df)\n",
    "# new_fields_df"
   ]
  },
  {
   "cell_type": "code",
   "execution_count": null,
   "id": "5da93675",
   "metadata": {},
   "outputs": [],
   "source": []
  }
 ],
 "metadata": {
  "kernelspec": {
   "display_name": "Python 3",
   "language": "python",
   "name": "python3"
  },
  "language_info": {
   "codemirror_mode": {
    "name": "ipython",
    "version": 3
   },
   "file_extension": ".py",
   "mimetype": "text/x-python",
   "name": "python",
   "nbconvert_exporter": "python",
   "pygments_lexer": "ipython3",
   "version": "3.6.10"
  }
 },
 "nbformat": 4,
 "nbformat_minor": 5
}
